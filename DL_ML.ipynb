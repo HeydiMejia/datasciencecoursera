{
  "nbformat": 4,
  "nbformat_minor": 0,
  "metadata": {
    "colab": {
      "name": "DL - ML.ipynb",
      "provenance": [],
      "authorship_tag": "ABX9TyObmD6KETpHuspLY4hT2hwP",
      "include_colab_link": true
    },
    "kernelspec": {
      "name": "python3",
      "display_name": "Python 3"
    },
    "language_info": {
      "name": "python"
    }
  },
  "cells": [
    {
      "cell_type": "markdown",
      "metadata": {
        "id": "view-in-github",
        "colab_type": "text"
      },
      "source": [
        "<a href=\"https://colab.research.google.com/github/HeydiMejia/datasciencecoursera/blob/main/DL_ML.ipynb\" target=\"_parent\"><img src=\"https://colab.research.google.com/assets/colab-badge.svg\" alt=\"Open In Colab\"/></a>"
      ]
    },
    {
      "cell_type": "markdown",
      "source": [
        "**SESION 2**\n"
      ],
      "metadata": {
        "id": "vw9VjwS8lRv3"
      }
    },
    {
      "cell_type": "code",
      "source": [],
      "metadata": {
        "id": "oLKfpPLalduQ"
      },
      "execution_count": null,
      "outputs": []
    }
  ]
}